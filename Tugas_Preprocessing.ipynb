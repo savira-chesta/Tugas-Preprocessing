{
  "nbformat": 4,
  "nbformat_minor": 0,
  "metadata": {
    "colab": {
      "provenance": [],
      "authorship_tag": "ABX9TyPKnoiLyfxajzFSdQgDJcfR",
      "include_colab_link": true
    },
    "kernelspec": {
      "name": "python3",
      "display_name": "Python 3"
    },
    "language_info": {
      "name": "python"
    }
  },
  "cells": [
    {
      "cell_type": "markdown",
      "metadata": {
        "id": "view-in-github",
        "colab_type": "text"
      },
      "source": [
        "<a href=\"https://colab.research.google.com/github/savira-chesta/Tugas-Preprocessing/blob/main/Tugas_Preprocessing.ipynb\" target=\"_parent\"><img src=\"https://colab.research.google.com/assets/colab-badge.svg\" alt=\"Open In Colab\"/></a>"
      ]
    },
    {
      "cell_type": "code",
      "source": [
        "#Memuat dataset yang berupa file csv ke pandas\n",
        "\n",
        "import pandas as pd\n",
        "df = pd.read_csv('movie_sample_dataset.csv')\n",
        "\n",
        "# Melihat 5 baris pertama\n",
        "print(df.head())\n",
        "\n",
        "# Melihat informasi umum (tipe data, jumlah data, nilai yang hilang)\n",
        "print(df.info())\n"
      ],
      "metadata": {
        "id": "-YtduPC5wsBg"
      },
      "execution_count": null,
      "outputs": []
    },
    {
      "cell_type": "code",
      "source": [
        "#Membersihkan data\n",
        "#Menghapus baris dalam dataset yang memiliki nilai NaN pada kolom gross dan budget\n",
        "\n",
        "df.dropna(subset=['gross', 'budget'], axis=0, inplace=True)\n",
        "df.reset_index(drop=True, inplace=True)\n",
        "df.head(90)\n"
      ],
      "metadata": {
        "id": "RdUNwuNmwuZd"
      },
      "execution_count": null,
      "outputs": []
    },
    {
      "cell_type": "markdown",
      "source": [
        "dalam kolom gross dan budget terdapat baris yang tidak memiliki nilai, sehingga pada tahap ini, baris tersebut akan dihapus"
      ],
      "metadata": {
        "id": "DDxbtl2elm5e"
      }
    },
    {
      "cell_type": "code",
      "source": [
        "#Menghapus baris dengan nilai N/A\n",
        "import numpy as np\n",
        "df.replace(\"N/A\", np.nan, inplace=True)\n",
        "df.replace(\"Null\", np.nan, inplace=True)\n",
        "df.dropna(axis=0, inplace=True)\n",
        "df.head(90)"
      ],
      "metadata": {
        "id": "mhcZ15DeWJyH"
      },
      "execution_count": null,
      "outputs": []
    },
    {
      "cell_type": "markdown",
      "source": [
        "pada tahap ini baris dan kolom pada data yang bernilai N/A akan diubah menjadi NaN untuk kemudian baris atau kolom tersebut dihapus dari dataframe"
      ],
      "metadata": {
        "id": "aV5r6eArlz93"
      }
    },
    {
      "cell_type": "code",
      "source": [
        "#Mengubah baris dengan nilai negatif\n",
        "df['duration'] = df['duration'].abs()\n",
        "df['imdb_score'] = df['imdb_score'].abs()\n",
        "df['color'] = df['color'].str.title()\n",
        "df.head(30)"
      ],
      "metadata": {
        "id": "3R32n-Y8ZOxI"
      },
      "execution_count": null,
      "outputs": []
    },
    {
      "cell_type": "markdown",
      "source": [
        "pada tahap ini kolom duration dan imdb_score terdapat baris yang memiliki nilai negatif dan akan diubah menjadi nilai positif, teks pada kolom color akan disamakan teksnya menjadi Color"
      ],
      "metadata": {
        "id": "nHwRIZ4zmSLu"
      }
    },
    {
      "cell_type": "code",
      "source": [
        "#Normalisasi teks\n",
        "df['country'] = df['country'].str.upper()\n",
        "df.head(10)\n"
      ],
      "metadata": {
        "id": "bt716kG6c561"
      },
      "execution_count": null,
      "outputs": []
    },
    {
      "cell_type": "code",
      "source": [
        "df.to_csv(\"movie_dataset_cleaned.csv\", index=False)"
      ],
      "metadata": {
        "id": "uaz9qH9gzdmL"
      },
      "execution_count": null,
      "outputs": []
    }
  ]
}